{
  "nbformat": 4,
  "nbformat_minor": 0,
  "metadata": {
    "colab": {
      "provenance": [],
      "authorship_tag": "ABX9TyOfZrv4dEYNsCvxbvLeyK6R",
      "include_colab_link": true
    },
    "kernelspec": {
      "name": "python3",
      "display_name": "Python 3"
    },
    "language_info": {
      "name": "python"
    }
  },
  "cells": [
    {
      "cell_type": "markdown",
      "metadata": {
        "id": "view-in-github",
        "colab_type": "text"
      },
      "source": [
        "<a href=\"https://colab.research.google.com/github/PavloIeremeiew/MachineLearning/blob/main/%D0%84%D1%80%D0%B5%D0%BC%D0%B5%D1%94%D0%B2_%D0%BF%D1%80_1.ipynb\" target=\"_parent\"><img src=\"https://colab.research.google.com/assets/colab-badge.svg\" alt=\"Open In Colab\"/></a>"
      ]
    },
    {
      "cell_type": "markdown",
      "source": [
        "Лабораторна робота №1\n",
        "Варіант2"
      ],
      "metadata": {
        "id": "jQmL0FanamMk"
      }
    },
    {
      "cell_type": "markdown",
      "source": [
        "1. Створіть одновимірний масив (вектор) з першими 20-ма натуральними числами та\n",
        "виведіть його значення."
      ],
      "metadata": {
        "id": "MAxI94wZa-a0"
      }
    },
    {
      "cell_type": "markdown",
      "source": [
        "2. Створіть двовимірний масив (матрицю) розміром 3x3, заповніть його випадковими\n",
        "натуральними числами та виведіть його значення."
      ],
      "metadata": {
        "id": "t_jRA3wWblR8"
      }
    },
    {
      "cell_type": "markdown",
      "source": [
        "3. Створіть масив розміром 5x5, заповніть його випадковими дійсними числами в\n",
        "діапазоні від -1 до 1 та виведіть його значення"
      ],
      "metadata": {
        "id": "Yq2eTwoGbnK4"
      }
    },
    {
      "cell_type": "markdown",
      "source": [
        "4. Створіть масив розміром 5x5, заповніть його випадковими дійсними числами в\n",
        "діапазоні від 0 до 1 та знайдіть середнє значення елементів."
      ],
      "metadata": {
        "id": "McXiev_Kbojm"
      }
    },
    {
      "cell_type": "markdown",
      "source": [
        "5. Створіть два одновимірних масиви розміром 5, заповніть їх випадковими цілими\n",
        "числами в діапазоні від -10 до 10 та виконайте на них поелементні операції додавання,\n",
        "віднімання та множення."
      ],
      "metadata": {
        "id": "nb30QnuBbpp6"
      }
    },
    {
      "cell_type": "markdown",
      "source": [
        "6. Створіть дві матриці 2x2, заповніть їх довільними дійсними числами від 3 до 10 та\n",
        "знайдіть їх добуток."
      ],
      "metadata": {
        "id": "yzCGW6yzbqy6"
      }
    },
    {
      "cell_type": "markdown",
      "source": [
        "7. Створіть дві матриці розміром 2x3 та 3x2, заповніть їх випадковими цілими числами\n",
        "в діапазоні від 1 до 5 та перемножте їх між собою."
      ],
      "metadata": {
        "id": "CucFi7T0brx0"
      }
    },
    {
      "cell_type": "markdown",
      "source": [
        "8. Створіть матрицю розміром 3x3, заповніть її випадковими цілими числами в діапазоні\n",
        "від 1 до 12 та знайдіть її обернену матрицю."
      ],
      "metadata": {
        "id": "gH_16uQNbsw5"
      }
    },
    {
      "cell_type": "markdown",
      "source": [
        "9. Створіть матрицю розміром 4x4, заповніть її випадковими дійсними числами в\n",
        "діапазоні від -8 до 8 та транспонуйте її."
      ],
      "metadata": {
        "id": "gB-yiuw5bt1k"
      }
    },
    {
      "cell_type": "markdown",
      "source": [
        "10. Створіть матрицю розміром 3x4 та вектор розміром 4x1, заповніть їх випадковими\n",
        "цілими числами в діапазоні від 1 до 10 та знайдіть середнє значення елементів матриці"
      ],
      "metadata": {
        "id": "JtaxO01ebvCi"
      }
    },
    {
      "cell_type": "markdown",
      "source": [
        "11. Створіть матрицю розміром 2x3 та вектор розміром 3x1, заповніть матрицю\n",
        "випадковими цілими числами в діапазоні від 1 до 10, а вектор - випадковими дійсними\n",
        "числами від 0 до 1, і знайдіть добуток матриці на вектор."
      ],
      "metadata": {
        "id": "sKtELVw4bwO8"
      }
    },
    {
      "cell_type": "markdown",
      "source": [
        "12. Створіть дві матриці розміром 3x3, заповніть їх випадковими цілими числами в\n",
        "діапазоні від 1 до 10 та знайдіть їхню різницю."
      ],
      "metadata": {
        "id": "4_rRdYkFbx7d"
      }
    },
    {
      "cell_type": "markdown",
      "source": [
        "13. Створіть дві матриці розміром 3x3, заповніть їх випадковими цілими числами в\n",
        "діапазоні від -5 до 5 та знайдіть їх добуток."
      ],
      "metadata": {
        "id": "lmJ8UxpRbzDT"
      }
    },
    {
      "cell_type": "markdown",
      "source": [
        "14. Створіть матрицю розміром 3x3, заповніть її випадковими цілими числами в діапазоні\n",
        "від -5 до 5 та знайдіть суму елементів матриці."
      ],
      "metadata": {
        "id": "DYymigHIb0TW"
      }
    },
    {
      "cell_type": "markdown",
      "source": [
        "15. Створіть матрицю розміром 4x4, заповніть її випадковими дійсними числами в\n",
        "діапазоні від 0 до 1 та знайдіть вектор-стовпчик, що містить добуток елементів\n",
        "кожного рядка матриці."
      ],
      "metadata": {
        "id": "j7FANQaub1j_"
      }
    },
    {
      "cell_type": "markdown",
      "source": [
        "Висновок: в данній роботі я навчився працювати з матрицями в мові програмування python"
      ],
      "metadata": {
        "id": "NuWPMlasc9NI"
      }
    },
    {
      "cell_type": "markdown",
      "source": [
        "Github url: https://github.com/PavloIeremeiew/MachineLearning/blob/main/%D0%84%D1%80%D0%B5%D0%BC%D0%B5%D1%94%D0%B2_%D0%BF%D1%80_1.ipynb"
      ],
      "metadata": {
        "id": "P7x_08HpdQ2q"
      }
    }
  ]
}