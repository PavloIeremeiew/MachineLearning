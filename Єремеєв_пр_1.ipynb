{
  "nbformat": 4,
  "nbformat_minor": 0,
  "metadata": {
    "colab": {
      "provenance": [],
      "authorship_tag": "ABX9TyNLvBoI3sV9Oho7n5KwvkJQ",
      "include_colab_link": true
    },
    "kernelspec": {
      "name": "python3",
      "display_name": "Python 3"
    },
    "language_info": {
      "name": "python"
    }
  },
  "cells": [
    {
      "cell_type": "markdown",
      "metadata": {
        "id": "view-in-github",
        "colab_type": "text"
      },
      "source": [
        "<a href=\"https://colab.research.google.com/github/PavloIeremeiew/MachineLearning/blob/main/%D0%84%D1%80%D0%B5%D0%BC%D0%B5%D1%94%D0%B2_%D0%BF%D1%80_1.ipynb\" target=\"_parent\"><img src=\"https://colab.research.google.com/assets/colab-badge.svg\" alt=\"Open In Colab\"/></a>"
      ]
    },
    {
      "cell_type": "markdown",
      "source": [
        "Лабораторна робота №1\n",
        "Варіант2"
      ],
      "metadata": {
        "id": "jQmL0FanamMk"
      }
    },
    {
      "cell_type": "code",
      "source": [
        "import numpy as np\n",
        "numpy_version = np.__version__\n",
        "numpy_version\n"
      ],
      "metadata": {
        "colab": {
          "base_uri": "https://localhost:8080/",
          "height": 35
        },
        "id": "ZTa6PpxjgokO",
        "outputId": "aa6d464c-bbde-44f1-91d8-0386b80b4a4e"
      },
      "execution_count": null,
      "outputs": [
        {
          "output_type": "execute_result",
          "data": {
            "text/plain": [
              "'2.0.2'"
            ],
            "application/vnd.google.colaboratory.intrinsic+json": {
              "type": "string"
            }
          },
          "metadata": {},
          "execution_count": 2
        }
      ]
    },
    {
      "cell_type": "markdown",
      "source": [
        "1. Створіть одновимірний масив (вектор) з першими 20-ма натуральними числами та\n",
        "виведіть його значення."
      ],
      "metadata": {
        "id": "MAxI94wZa-a0"
      }
    },
    {
      "cell_type": "code",
      "source": [
        "vector = np.arange(1, 21)# заповнює масив числами від 1 до 21 не включно\n",
        "vector"
      ],
      "metadata": {
        "colab": {
          "base_uri": "https://localhost:8080/"
        },
        "id": "UW0tm9eXgNe8",
        "outputId": "0ef0b8b1-a85c-4713-d011-d0fb399c65d6"
      },
      "execution_count": null,
      "outputs": [
        {
          "output_type": "execute_result",
          "data": {
            "text/plain": [
              "array([ 1,  2,  3,  4,  5,  6,  7,  8,  9, 10, 11, 12, 13, 14, 15, 16, 17,\n",
              "       18, 19, 20])"
            ]
          },
          "metadata": {},
          "execution_count": 4
        }
      ]
    },
    {
      "cell_type": "markdown",
      "source": [
        "2. Створіть двовимірний масив (матрицю) розміром 3x3, заповніть його випадковими\n",
        "натуральними числами та виведіть його значення."
      ],
      "metadata": {
        "id": "t_jRA3wWblR8"
      }
    },
    {
      "cell_type": "code",
      "source": [
        "matrix = np.random.randint(1, 101, (3, 3))# заповнює масив розміром 3 на 3, випадковими числами від 1 до 100\n",
        "matrix"
      ],
      "metadata": {
        "colab": {
          "base_uri": "https://localhost:8080/"
        },
        "id": "QuFrJi_dgOq5",
        "outputId": "2ae4f6aa-ba23-40f1-ec95-f5d709acfef7"
      },
      "execution_count": null,
      "outputs": [
        {
          "output_type": "execute_result",
          "data": {
            "text/plain": [
              "array([[24, 82, 60],\n",
              "       [26, 88, 36],\n",
              "       [19, 57, 17]])"
            ]
          },
          "metadata": {},
          "execution_count": 5
        }
      ]
    },
    {
      "cell_type": "markdown",
      "source": [
        "3. Створіть масив розміром 5x5, заповніть його випадковими дійсними числами в\n",
        "діапазоні від -1 до 1 та виведіть його значення"
      ],
      "metadata": {
        "id": "Yq2eTwoGbnK4"
      }
    },
    {
      "cell_type": "code",
      "source": [
        "matrix = np.random.uniform(-1, 1, (5, 5))# заповнює масив розміром 5 на 5, випадковими числами від -1 до 1\n",
        "matrix = np.round(matrix, 2)# округлення\n",
        "matrix"
      ],
      "metadata": {
        "colab": {
          "base_uri": "https://localhost:8080/"
        },
        "id": "dyR2-2ISgPN7",
        "outputId": "7f247d4e-7057-4605-d5f7-692241e52d65"
      },
      "execution_count": null,
      "outputs": [
        {
          "output_type": "execute_result",
          "data": {
            "text/plain": [
              "array([[ 0.76,  0.75, -0.12,  0.12,  0.15],\n",
              "       [-0.22, -0.54, -0.58, -0.5 , -0.19],\n",
              "       [-0.7 , -0.91, -0.23,  0.62, -0.75],\n",
              "       [-0.56,  0.74,  0.3 , -0.74, -0.41],\n",
              "       [-0.27, -0.26,  0.3 , -0.72, -0.28]])"
            ]
          },
          "metadata": {},
          "execution_count": 9
        }
      ]
    },
    {
      "cell_type": "markdown",
      "source": [
        "4. Створіть масив розміром 5x5, заповніть його випадковими дійсними числами в\n",
        "діапазоні від 0 до 1 та знайдіть середнє значення елементів."
      ],
      "metadata": {
        "id": "McXiev_Kbojm"
      }
    },
    {
      "cell_type": "code",
      "source": [
        "matrix = np.random.uniform(0, 1, (5, 5))# заповнює масив розміром 5 на 5, випадковими числами від -1 до 1\n",
        "matrix = np.round(matrix, 2)# округлення\n",
        "meanValue = np.mean(matrix)# Обчислення середнього значення елементів\n",
        "\n",
        "print(matrix)\n",
        "print()\n",
        "meanValue"
      ],
      "metadata": {
        "colab": {
          "base_uri": "https://localhost:8080/"
        },
        "id": "gmhL4Pf4gPvM",
        "outputId": "9afbc464-a4d2-4f40-e4d0-7a19e8bd7a7f"
      },
      "execution_count": null,
      "outputs": [
        {
          "output_type": "stream",
          "name": "stdout",
          "text": [
            "[[0.08 0.87 0.44 0.53 0.22]\n",
            " [0.17 0.5  0.63 0.2  0.87]\n",
            " [0.87 0.2  0.99 0.67 0.9 ]\n",
            " [0.72 0.08 0.83 0.74 0.89]\n",
            " [0.19 0.46 0.48 0.58 0.84]]\n",
            "\n"
          ]
        },
        {
          "output_type": "execute_result",
          "data": {
            "text/plain": [
              "np.float64(0.5579999999999999)"
            ]
          },
          "metadata": {},
          "execution_count": 18
        }
      ]
    },
    {
      "cell_type": "markdown",
      "source": [
        "5. Створіть два одновимірних масиви розміром 5, заповніть їх випадковими цілими\n",
        "числами в діапазоні від -10 до 10 та виконайте на них поелементні операції додавання,\n",
        "віднімання та множення."
      ],
      "metadata": {
        "id": "nb30QnuBbpp6"
      }
    },
    {
      "cell_type": "code",
      "source": [
        "array1 = np.random.randint(-10, 11, 5)\n",
        "array2 = np.random.randint(-10, 11, 5)\n",
        "\n",
        "# Поелементні операції\n",
        "sum_result = array1 + array2       # Додавання\n",
        "diff_result = array1 - array2      # Віднімання\n",
        "prod_result = np.dot(array1, array2)      # Множення\n",
        "\n",
        "# Виведення результатів\n",
        "print(\"Масив 1:\", array1)\n",
        "print(\"Масив 2:\", array2)\n",
        "print(\"Додавання:\", sum_result)\n",
        "print(\"Віднімання:\", diff_result)\n",
        "print(\"Множення:\", prod_result)"
      ],
      "metadata": {
        "colab": {
          "base_uri": "https://localhost:8080/"
        },
        "id": "OW6TUQ7wgQMn",
        "outputId": "b6d78eba-0f99-4910-f788-56481f27197e"
      },
      "execution_count": 39,
      "outputs": [
        {
          "output_type": "stream",
          "name": "stdout",
          "text": [
            "Масив 1: [  9  -6 -10  -2  -7]\n",
            "Масив 2: [ 7 -1  5  9  7]\n",
            "Додавання: [16 -7 -5  7  0]\n",
            "Віднімання: [  2  -5 -15 -11 -14]\n",
            "Множення: -48\n"
          ]
        }
      ]
    },
    {
      "cell_type": "markdown",
      "source": [
        "6. Створіть дві матриці 2x2, заповніть їх довільними дійсними числами від 3 до 10 та\n",
        "знайдіть їх добуток."
      ],
      "metadata": {
        "id": "yzCGW6yzbqy6"
      }
    },
    {
      "cell_type": "code",
      "source": [
        "array1 = np.random.uniform(3, 11, (2,2))\n",
        "array1 = np.round(array1, 2)\n",
        "array2 = np.random.uniform(3, 11, (2,2))\n",
        "array2 = np.round(array2, 2)\n",
        "\n",
        "prod_result =  np.dot(array1, array2)     # Множення\n",
        "prod_result = np.round(prod_result, 2)\n",
        "\n",
        "# Виведення результатів\n",
        "print(\"Масив 1:\\n\", array1)\n",
        "print(\"Масив 2:\\n\", array2)\n",
        "print(\"Множення:\\n\", prod_result)"
      ],
      "metadata": {
        "colab": {
          "base_uri": "https://localhost:8080/"
        },
        "id": "nmywGUlegQr5",
        "outputId": "e25390f0-0253-452c-a4c1-b7d0776627e2"
      },
      "execution_count": 40,
      "outputs": [
        {
          "output_type": "stream",
          "name": "stdout",
          "text": [
            "Масив 1:\n",
            " [[10.87  7.42]\n",
            " [ 8.23  6.11]]\n",
            "Масив 2:\n",
            " [[10.81  6.83]\n",
            " [ 6.13  7.96]]\n",
            "Множення:\n",
            " [[162.99 133.31]\n",
            " [126.42 104.85]]\n"
          ]
        }
      ]
    },
    {
      "cell_type": "markdown",
      "source": [
        "7. Створіть дві матриці розміром 2x3 та 3x2, заповніть їх випадковими цілими числами\n",
        "в діапазоні від 1 до 5 та перемножте їх між собою."
      ],
      "metadata": {
        "id": "CucFi7T0brx0"
      }
    },
    {
      "cell_type": "code",
      "source": [
        "matrix1 = np.random.randint(1, 6, (2, 3))\n",
        "matrix2 = np.random.randint(1, 6, (3, 2))\n",
        "\n",
        "result_matrix = np.dot(matrix1, matrix2)\n",
        "\n",
        "print(\"Матриця 1:\\n\", matrix1)\n",
        "print(\"Матриця 2:\\n\", matrix2)\n",
        "print(\"Результат множення:\\n\", result_matrix)"
      ],
      "metadata": {
        "id": "jAY7d_dlgRHr",
        "colab": {
          "base_uri": "https://localhost:8080/"
        },
        "outputId": "86fafd53-1ac9-431f-c408-a05a748d0b3b"
      },
      "execution_count": null,
      "outputs": [
        {
          "output_type": "stream",
          "name": "stdout",
          "text": [
            "Матриця 1:\n",
            " [[2 4 5]\n",
            " [2 3 4]]\n",
            "Матриця 2:\n",
            " [[5 1]\n",
            " [3 1]\n",
            " [2 1]]\n",
            "Результат множення:\n",
            " [[32 11]\n",
            " [27  9]]\n"
          ]
        }
      ]
    },
    {
      "cell_type": "markdown",
      "source": [
        "8. Створіть матрицю розміром 3x3, заповніть її випадковими цілими числами в діапазоні\n",
        "від 1 до 12 та знайдіть її обернену матрицю."
      ],
      "metadata": {
        "id": "gH_16uQNbsw5"
      }
    },
    {
      "cell_type": "code",
      "source": [
        "matrix = np.random.randint(1, 13, (3, 3))\n",
        "\n",
        "# Перевірка, чи матриця має обернену (визначник не повинен бути нульовим)\n",
        "if np.linalg.det(matrix) != 0:\n",
        "    inverse_matrix = np.linalg.inv(matrix)\n",
        "    inverse_matrix = np.round(inverse_matrix, 2)\n",
        "else:\n",
        "    inverse_matrix = \"Матриця є виродженою (det=0) і не має оберненої.\"\n",
        "\n",
        "print(\"Матриця:\\n\", matrix)\n",
        "print(\"Обернена матриця:\\n\", inverse_matrix)"
      ],
      "metadata": {
        "id": "LGftZblxgRti",
        "colab": {
          "base_uri": "https://localhost:8080/"
        },
        "outputId": "cbd43ae6-056d-46fa-f2b3-9c8cb63f88a8"
      },
      "execution_count": null,
      "outputs": [
        {
          "output_type": "stream",
          "name": "stdout",
          "text": [
            "Матриця:\n",
            " [[10  7 11]\n",
            " [12  5  3]\n",
            " [12  2  5]]\n",
            "Обернена матриця:\n",
            " [[-0.05  0.03  0.09]\n",
            " [ 0.06  0.22 -0.27]\n",
            " [ 0.1  -0.17  0.09]]\n"
          ]
        }
      ]
    },
    {
      "cell_type": "markdown",
      "source": [
        "9. Створіть матрицю розміром 4x4, заповніть її випадковими дійсними числами в\n",
        "діапазоні від -8 до 8 та транспонуйте її."
      ],
      "metadata": {
        "id": "gB-yiuw5bt1k"
      }
    },
    {
      "cell_type": "code",
      "source": [
        "matrix = np.random.uniform(-8, 8, (4, 4))\n",
        "matrix = np.round(matrix, 2)\n",
        "\n",
        "# Транспонування матриці\n",
        "transposed_matrix = np.round(matrix.T, 2)\n",
        "\n",
        "\n",
        "# Виведення матриці та її транспонованої версії\n",
        "print(\"Матриця:\\n\", matrix)\n",
        "print(\"Транспонована матриця:\\n\", transposed_matrix)"
      ],
      "metadata": {
        "id": "DrGy6EHJgSI8",
        "colab": {
          "base_uri": "https://localhost:8080/"
        },
        "outputId": "0f06fedd-b708-476a-d0c8-6217103cbf3c"
      },
      "execution_count": null,
      "outputs": [
        {
          "output_type": "stream",
          "name": "stdout",
          "text": [
            "Матриця:\n",
            " [[-0.81 -0.42 -6.87 -2.13]\n",
            " [ 2.06 -3.18 -4.42  0.24]\n",
            " [ 2.52  0.86 -4.64  7.41]\n",
            " [ 0.08  4.95 -6.62 -0.66]]\n",
            "Транспонована матриця:\n",
            " [[-0.81  2.06  2.52  0.08]\n",
            " [-0.42 -3.18  0.86  4.95]\n",
            " [-6.87 -4.42 -4.64 -6.62]\n",
            " [-2.13  0.24  7.41 -0.66]]\n"
          ]
        }
      ]
    },
    {
      "cell_type": "markdown",
      "source": [
        "10. Створіть матрицю розміром 3x4 та вектор розміром 4x1, заповніть їх випадковими\n",
        "цілими числами в діапазоні від 1 до 10 та знайдіть середнє значення елементів матриці"
      ],
      "metadata": {
        "id": "JtaxO01ebvCi"
      }
    },
    {
      "cell_type": "code",
      "source": [
        "matrix = np.random.randint(1, 11, (3, 4))\n",
        "vector = np.random.randint(1, 11, (4, 1))\n",
        "\n",
        "combined_matrix = np.vstack((matrix, vector.T))\n",
        "\n",
        "mean_value = np.mean(combined_matrix)\n",
        "matrix,vector, combined_matrix,mean_value"
      ],
      "metadata": {
        "id": "jC_s5sgNgSdA",
        "colab": {
          "base_uri": "https://localhost:8080/"
        },
        "outputId": "55ec817a-79e7-41d7-c026-9c8ffca9884e"
      },
      "execution_count": null,
      "outputs": [
        {
          "output_type": "execute_result",
          "data": {
            "text/plain": [
              "(array([[8, 8, 5, 2],\n",
              "        [2, 8, 5, 1],\n",
              "        [3, 3, 5, 6]]),\n",
              " array([[ 4],\n",
              "        [10],\n",
              "        [ 7],\n",
              "        [ 5]]),\n",
              " array([[ 8,  8,  5,  2],\n",
              "        [ 2,  8,  5,  1],\n",
              "        [ 3,  3,  5,  6],\n",
              "        [ 4, 10,  7,  5]]),\n",
              " np.float64(5.125))"
            ]
          },
          "metadata": {},
          "execution_count": 33
        }
      ]
    },
    {
      "cell_type": "markdown",
      "source": [
        "11. Створіть матрицю розміром 2x3 та вектор розміром 3x1, заповніть матрицю\n",
        "випадковими цілими числами в діапазоні від 1 до 10, а вектор - випадковими дійсними\n",
        "числами від 0 до 1, і знайдіть добуток матриці на вектор."
      ],
      "metadata": {
        "id": "sKtELVw4bwO8"
      }
    },
    {
      "cell_type": "code",
      "source": [
        "matrix = np.random.randint(1, 11, (2, 3))\n",
        "\n",
        "vector = np.random.uniform(0, 1, (3, 1))\n",
        "vector = np.round(vector, 2)\n",
        "\n",
        "result = np.dot(matrix, vector)\n",
        "result = np.round(result, 2)\n",
        "\n",
        "matrix, vector, result"
      ],
      "metadata": {
        "id": "hklui2U_gTC9",
        "colab": {
          "base_uri": "https://localhost:8080/"
        },
        "outputId": "6601939e-0026-42d1-c487-67e0181b3f00"
      },
      "execution_count": 34,
      "outputs": [
        {
          "output_type": "execute_result",
          "data": {
            "text/plain": [
              "(array([[ 3, 10,  1],\n",
              "        [ 4,  8,  7]]),\n",
              " array([[0.21],\n",
              "        [0.55],\n",
              "        [0.1 ]]),\n",
              " array([[6.23],\n",
              "        [5.94]]))"
            ]
          },
          "metadata": {},
          "execution_count": 34
        }
      ]
    },
    {
      "cell_type": "markdown",
      "source": [
        "12. Створіть дві матриці розміром 3x3, заповніть їх випадковими цілими числами в\n",
        "діапазоні від 1 до 10 та знайдіть їхню різницю."
      ],
      "metadata": {
        "id": "4_rRdYkFbx7d"
      }
    },
    {
      "cell_type": "code",
      "source": [
        "matrix1 = np.random.randint(1, 11, (3, 3))\n",
        "matrix2 = np.random.randint(1, 11, (3, 3))\n",
        "\n",
        "difference = matrix1 - matrix2\n",
        "\n",
        "matrix1, matrix2, difference"
      ],
      "metadata": {
        "id": "1hBpu2BZgT6o",
        "colab": {
          "base_uri": "https://localhost:8080/"
        },
        "outputId": "156a48b5-fef4-4bac-b888-dbf902c7ed81"
      },
      "execution_count": 36,
      "outputs": [
        {
          "output_type": "execute_result",
          "data": {
            "text/plain": [
              "(array([[ 1,  1, 10],\n",
              "        [ 2,  4, 10],\n",
              "        [ 7,  6,  3]]),\n",
              " array([[ 5, 10,  3],\n",
              "        [ 3,  3,  5],\n",
              "        [ 1,  7,  5]]),\n",
              " array([[-4, -9,  7],\n",
              "        [-1,  1,  5],\n",
              "        [ 6, -1, -2]]))"
            ]
          },
          "metadata": {},
          "execution_count": 36
        }
      ]
    },
    {
      "cell_type": "markdown",
      "source": [
        "13. Створіть дві матриці розміром 3x3, заповніть їх випадковими цілими числами в\n",
        "діапазоні від -5 до 5 та знайдіть їх добуток."
      ],
      "metadata": {
        "id": "lmJ8UxpRbzDT"
      }
    },
    {
      "cell_type": "code",
      "source": [
        "matrix1 = np.random.randint(-5, 6, (3, 3))\n",
        "matrix2 = np.random.randint(-5, 6, (3, 3))\n",
        "\n",
        "result = np.dot(matrix1, matrix2)\n",
        "\n",
        "matrix1, matrix2, result"
      ],
      "metadata": {
        "id": "D1iN0_VTgUWv",
        "colab": {
          "base_uri": "https://localhost:8080/"
        },
        "outputId": "3744741c-da19-4fde-f6d1-5fdb5f831570"
      },
      "execution_count": 38,
      "outputs": [
        {
          "output_type": "execute_result",
          "data": {
            "text/plain": [
              "(array([[-2,  0, -5],\n",
              "        [ 0, -1,  5],\n",
              "        [-5,  0,  3]]),\n",
              " array([[ 3,  3,  5],\n",
              "        [-5,  0, -1],\n",
              "        [-2,  1, -1]]),\n",
              " array([[  4, -11,  -5],\n",
              "        [ -5,   5,  -4],\n",
              "        [-21, -12, -28]]))"
            ]
          },
          "metadata": {},
          "execution_count": 38
        }
      ]
    },
    {
      "cell_type": "markdown",
      "source": [
        "14. Створіть матрицю розміром 3x3, заповніть її випадковими цілими числами в діапазоні\n",
        "від -5 до 5 та знайдіть суму елементів матриці."
      ],
      "metadata": {
        "id": "DYymigHIb0TW"
      }
    },
    {
      "cell_type": "code",
      "source": [
        "matrix = np.random.randint(-5, 6, (3, 3))\n",
        "\n",
        "sum_elements = np.sum(matrix)\n",
        "\n",
        "matrix, sum_elements"
      ],
      "metadata": {
        "id": "5hVNGEzPgU9i",
        "colab": {
          "base_uri": "https://localhost:8080/"
        },
        "outputId": "a70acbb9-e624-40ae-cf6a-ce75256197a6"
      },
      "execution_count": 41,
      "outputs": [
        {
          "output_type": "execute_result",
          "data": {
            "text/plain": [
              "(array([[ 0,  0,  4],\n",
              "        [-4,  0,  1],\n",
              "        [ 5, -3,  0]]),\n",
              " np.int64(3))"
            ]
          },
          "metadata": {},
          "execution_count": 41
        }
      ]
    },
    {
      "cell_type": "markdown",
      "source": [
        "15. Створіть матрицю розміром 4x4, заповніть її випадковими дійсними числами в\n",
        "діапазоні від 0 до 1 та знайдіть вектор-стовпчик, що містить добуток елементів\n",
        "кожного рядка матриці."
      ],
      "metadata": {
        "id": "j7FANQaub1j_"
      }
    },
    {
      "cell_type": "code",
      "source": [
        "matrix = np.random.uniform(0, 1, (4, 4))\n",
        "matrix = np.round(matrix, 2)\n",
        "\n",
        "row_products = np.prod(matrix, axis=1)\n",
        "\n",
        "matrix, row_products"
      ],
      "metadata": {
        "id": "07vCgxlcgVgc",
        "colab": {
          "base_uri": "https://localhost:8080/"
        },
        "outputId": "f7648f7f-3e35-4f0e-c690-1c9815079cf8"
      },
      "execution_count": 48,
      "outputs": [
        {
          "output_type": "execute_result",
          "data": {
            "text/plain": [
              "(array([[0.95, 0.03, 0.69, 0.39],\n",
              "        [0.75, 0.47, 0.77, 0.34],\n",
              "        [0.77, 0.97, 0.86, 0.92],\n",
              "        [0.09, 0.92, 0.96, 0.18]]),\n",
              " array([0.00766935, 0.0922845 , 0.59094728, 0.01430784]))"
            ]
          },
          "metadata": {},
          "execution_count": 48
        }
      ]
    },
    {
      "cell_type": "markdown",
      "source": [
        "Висновок: в данній роботі я навчився працювати з матрицями в мові програмування python"
      ],
      "metadata": {
        "id": "NuWPMlasc9NI"
      }
    },
    {
      "cell_type": "markdown",
      "source": [
        "Github url: https://github.com/PavloIeremeiew/MachineLearning/blob/main/%D0%84%D1%80%D0%B5%D0%BC%D0%B5%D1%94%D0%B2_%D0%BF%D1%80_1.ipynb"
      ],
      "metadata": {
        "id": "P7x_08HpdQ2q"
      }
    }
  ]
}